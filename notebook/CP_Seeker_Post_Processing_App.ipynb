{
 "cells": [
  {
   "cell_type": "raw",
   "id": "ecb309f7",
   "metadata": {},
   "source": [
    "---\n",
    "title: 'Streamlining Data Wrangling with the CP-Seeker Post-Processing App'\n",
    "author: Adam Cseresznye\n",
    "date: '2023-13-11'\n",
    "categories:\n",
    "  - CP-Seeker Post-Processing App \n",
    "jupyter: python3\n",
    "toc: true\n",
    "format:\n",
    "  html:\n",
    "    code-fold: true\n",
    "    code-tools: true\n",
    "---"
   ]
  },
  {
   "cell_type": "markdown",
   "id": "aab5a692-e95d-4785-8d85-ed1cc10b4056",
   "metadata": {
    "tags": []
   },
   "source": [
    "![Photo by National Cancer Institute on UnSplash](https://images.unsplash.com/photo-1583911860205-72f8ac8ddcbe?q=80&w=2070&auto=format&fit=crop&ixlib=rb-4.0.3&ixid=M3wxMjA3fDB8MHxwaG90by1wYWdlfHx8fGVufDB8fHx8fA%3D%3D){fig-align=\"center\" width=50%}\n"
   ]
  },
  {
   "cell_type": "markdown",
   "id": "e955da8b-ac66-47c9-95ba-2c66f68fe821",
   "metadata": {},
   "source": [
    "Welcome to the CP-Seeker Post-Processing App! This application is designed to streamline the organization of CP-Seeker outputs, simplifying additional quantitation steps required for further pipeline processes. [CP-Seeker](https://www.sciencedirect.com/science/article/pii/S026974912300996X?via%3Dihub), a novel custom-built software developed by Ronan Cariou and team, is based on the R-programming language. Its purpose is to seamlessly conduct peak integration and quantification of chlorinated paraffins from high-resolution LC-MS data."
   ]
  },
  {
   "cell_type": "markdown",
   "id": "1b335e7b-e371-4745-a683-7484741176b5",
   "metadata": {},
   "source": [
    "::: {.callout-note}\n",
    "You can access the project's app through its [Streamlit website](https://cpseeker-postprocess.streamlit.app/).\n",
    "\n",
    ":::"
   ]
  },
  {
   "cell_type": "markdown",
   "id": "7af189aa",
   "metadata": {},
   "source": [
    "# Introduction"
   ]
  },
  {
   "cell_type": "markdown",
   "id": "1db8e967-a3d9-4e57-a0f0-a034d3160f75",
   "metadata": {},
   "source": [
    "The environmental analysis of [chlorinated paraffins](https://www.sciencedirect.com/science/article/pii/S0160412022005438?via%3Dihub) (CPs) poses significant challenges due to their intricate composition, varying congener patterns in the environment, and the absence of suitable reference standards. The presence of numerous isomers, enantiomers, and diastereomers within CP mixtures represents a considerable hurdle.\n",
    "\n",
    "Introducing CP-Seeker, a custom-built, user-friendly, and automated software dedicated to peak integration of CPs and related chemical families. Developed at [LABERCA](https://www.laberca.org/en/laberca), a joint research unit of ONIRIS and INRAE in Nantes, France. CP-Seeker is an open-source R software built using the Shiny framework."
   ]
  },
  {
   "cell_type": "markdown",
   "id": "229617c9-388e-49d4-8077-06ba5a060fb5",
   "metadata": {},
   "source": [
    "The CP-Seeker post-processing app automates the data-wrangling once the data, including confidence levels and peak areas, is obtained from CP-Seeker. Manual processes often involve repetitive copy-pasting of data, introducing potential errors and tediousness. As depicted in @fig-example, CP-Seeker's output poses challenges as injected samples are spread across separate excel sheets. Moreover, each sample encompasses two dataframes on the same tab: \n",
    "- one containing confidence scores assigned by CP-Seeker to detected congeners,\n",
    "- and the other holding the actual peak areas."
   ]
  },
  {
   "cell_type": "markdown",
   "id": "97dc28ea-df1c-4007-bf52-327b8a7ec8e1",
   "metadata": {},
   "source": [
    "![Illustrative Application of CP-Seeker Post-Processing App](img.png){#fig-example}"
   ]
  },
  {
   "cell_type": "markdown",
   "id": "974a293f-a58a-4d05-8376-e50cdba776f1",
   "metadata": {},
   "source": [
    "The CP-Seeker post-processing app swiftly imports all datasets from various tabs and restructures the dataframes, akin to the pandas melt function. This transformation organizes congeners neatly, stacking them one beneath the other, rather than grouping them separately by carbon number and chlorine content. Consequently, all samples are presented side by side, eliminating the need for different tabs. Additionally, the app offers the ability to filter congeners and peak areas based on confidence intervals. In other words, congeners assigned lower confidence scores can be automatically excluded from further processing. Once the automated data wrangling is complete, the data is ready for further analysis using software/[workflow](https://www.sciencedirect.com/science/article/pii/S0021967305010770) of your choice.\n",
    "\n",
    "We believe the CP-Seeker Post-Processing App significantly cuts down data preparation time for subsequent analysis stages, thereby enhancing productivity and removing potential errors associated with manual data copying and pasting."
   ]
  },
  {
   "cell_type": "markdown",
   "id": "3b4ade18-4cc3-4eca-aa38-48f089a609e1",
   "metadata": {},
   "source": [
    "# How to use the App\n",
    "\n",
    "1. Upload your CP-Seeker output files [here](https://cpseeker-postprocess.streamlit.app/).\n",
    "2. Optionally adjust the confidence level, which is set to 80% by default.\n",
    "3. Download the filtered and merged dataset.\n",
    "\n",
    "# Get in touch\n",
    "\n",
    "Did the app help with your research? Any ideas for making it better? Get in touch! I would love to hear from you."
   ]
  }
 ],
 "metadata": {
  "kernelspec": {
   "display_name": "Python 3 (ipykernel)",
   "language": "python",
   "name": "python3"
  },
  "language_info": {
   "codemirror_mode": {
    "name": "ipython",
    "version": 3
   },
   "file_extension": ".py",
   "mimetype": "text/x-python",
   "name": "python",
   "nbconvert_exporter": "python",
   "pygments_lexer": "ipython3",
   "version": "3.10.12"
  },
  "toc-autonumbering": false,
  "toc-showcode": false,
  "toc-showmarkdowntxt": false,
  "varInspector": {
   "cols": {
    "lenName": 16,
    "lenType": 16,
    "lenVar": 40
   },
   "kernels_config": {
    "python": {
     "delete_cmd_postfix": "",
     "delete_cmd_prefix": "del ",
     "library": "var_list.py",
     "varRefreshCmd": "print(var_dic_list())"
    },
    "r": {
     "delete_cmd_postfix": ") ",
     "delete_cmd_prefix": "rm(",
     "library": "var_list.r",
     "varRefreshCmd": "cat(var_dic_list()) "
    }
   },
   "types_to_exclude": [
    "module",
    "function",
    "builtin_function_or_method",
    "instance",
    "_Feature"
   ],
   "window_display": false
  }
 },
 "nbformat": 4,
 "nbformat_minor": 5
}
